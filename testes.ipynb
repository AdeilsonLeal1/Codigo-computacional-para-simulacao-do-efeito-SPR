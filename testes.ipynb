{
 "cells": [
  {
   "cell_type": "code",
   "execution_count": 19,
   "metadata": {},
   "outputs": [],
   "source": [
    "from scipy.integrate import *\n",
    "import sympy as smp\n",
    "from numpy import *\n",
    "import Reflectivity as ref\n",
    "import Setting_Layers as sl\n",
    "import matplotlib.pyplot as plt"
   ]
  },
  {
   "cell_type": "code",
   "execution_count": 20,
   "metadata": {},
   "outputs": [],
   "source": [
    "dc = 0.79\n",
    "a = 1/(sqrt(2*pi))\n",
    "\n",
    "p = lambda w_i: (dc + (a/2.7)* exp(-(((w_i - 845)/30)**2))) * (dc + (a/2.7)* exp(-(((w_i - 853)/15)**2))) * (1.01 + (a/3)* exp(-(((w_i - 845)/42)**2)))\n",
    "p_2 = lambda w_i: 0.632 + (a/1.1) * exp(-((w_i - 850)**2)/(30**2))"
   ]
  },
  {
   "cell_type": "code",
   "execution_count": 21,
   "metadata": {},
   "outputs": [],
   "source": [
    "def set_index_3(lambda_i):\n",
    "    ref_index = []\n",
    "    material = [21, 13, 16]\n",
    "    for i in range(3):\n",
    "        ref_index.append(sl.set_index(material[i], lambda_i*1E-9))\n",
    "    return ref_index"
   ]
  },
  {
   "cell_type": "code",
   "execution_count": 22,
   "metadata": {},
   "outputs": [],
   "source": [
    "idx = lambda w_i: set_index_3(w_i)\n",
    "r = lambda theta, lambda_i: ref.reflectivity(3, [1, 50*1E-9, 1], idx(lambda_i), theta*pi/180, lambda_i*1e-9)\n",
    "\n",
    "    "
   ]
  },
  {
   "cell_type": "code",
   "execution_count": 23,
   "metadata": {},
   "outputs": [],
   "source": [
    "def f(w_i, theta):\n",
    "    return (r(theta, w_i)*p(w_i))\n",
    "\n",
    "def f2(wi, theta):\n",
    "    return (r(theta, wi)*p_2(wi))"
   ]
  },
  {
   "cell_type": "code",
   "execution_count": 24,
   "metadata": {},
   "outputs": [
    {
     "name": "stderr",
     "output_type": "stream",
     "text": [
      "C:\\Users\\Adeilson\\AppData\\Local\\Temp\\ipykernel_7352\\2766197524.py:1: IntegrationWarning: The occurrence of roundoff error is detected, which prevents \n",
      "  the requested tolerance from being achieved.  The error may be \n",
      "  underestimated.\n",
      "  integrals = [[a, quad(f,  745, 935, args=(a))[0]] for a in linspace(65, 73, 128)]\n",
      "C:\\Users\\Adeilson\\AppData\\Local\\Temp\\ipykernel_7352\\2766197524.py:1: IntegrationWarning: The maximum number of subdivisions (50) has been achieved.\n",
      "  If increasing the limit yields no improvement it is advised to analyze \n",
      "  the integrand in order to determine the difficulties.  If the position of a \n",
      "  local difficulty can be determined (singularity, discontinuity) one will \n",
      "  probably gain from splitting up the interval and calling the integrator \n",
      "  on the subranges.  Perhaps a special-purpose integrator should be used.\n",
      "  integrals = [[a, quad(f,  745, 935, args=(a))[0]] for a in linspace(65, 73, 128)]\n"
     ]
    }
   ],
   "source": [
    "\n",
    "integrals = [[a, quad(f,  745, 935, args=(a))[0]] for a in linspace(65, 73, 128)]\n"
   ]
  },
  {
   "cell_type": "code",
   "execution_count": 25,
   "metadata": {},
   "outputs": [
    {
     "name": "stderr",
     "output_type": "stream",
     "text": [
      "C:\\Users\\Adeilson\\AppData\\Local\\Temp\\ipykernel_7352\\3995772295.py:1: IntegrationWarning: The occurrence of roundoff error is detected, which prevents \n",
      "  the requested tolerance from being achieved.  The error may be \n",
      "  underestimated.\n",
      "  integrals2= [[a, quad(f2, 745, 935, args=(a))[0]] for a in linspace(65, 73, 128)]\n",
      "C:\\Users\\Adeilson\\AppData\\Local\\Temp\\ipykernel_7352\\3995772295.py:1: IntegrationWarning: The maximum number of subdivisions (50) has been achieved.\n",
      "  If increasing the limit yields no improvement it is advised to analyze \n",
      "  the integrand in order to determine the difficulties.  If the position of a \n",
      "  local difficulty can be determined (singularity, discontinuity) one will \n",
      "  probably gain from splitting up the interval and calling the integrator \n",
      "  on the subranges.  Perhaps a special-purpose integrator should be used.\n",
      "  integrals2= [[a, quad(f2, 745, 935, args=(a))[0]] for a in linspace(65, 73, 128)]\n"
     ]
    }
   ],
   "source": [
    "integrals2= [[a, quad(f2, 745, 935, args=(a))[0]] for a in linspace(65, 73, 128)]"
   ]
  },
  {
   "cell_type": "code",
   "execution_count": 26,
   "metadata": {},
   "outputs": [],
   "source": [
    "R = array(integrals).T[1] / quad(p, 745, 935)[0]\n",
    "R2= array(integrals2).T[1] / quad(p, 745, 935)[0]\n",
    "\n",
    "r = R/max(R)\n",
    "r2 = R2/max(R2)"
   ]
  },
  {
   "cell_type": "code",
   "execution_count": 27,
   "metadata": {},
   "outputs": [
    {
     "data": {
      "text/plain": [
       "[<matplotlib.lines.Line2D at 0x240d9585a50>]"
      ]
     },
     "execution_count": 27,
     "metadata": {},
     "output_type": "execute_result"
    },
    {
     "data": {
      "image/png": "[encoded data removed]",
      "text/plain": [
       "<Figure size 640x480 with 1 Axes>"
      ]
     },
     "metadata": {},
     "output_type": "display_data"
    }
   ],
   "source": [
    "plt.plot(linspace(65, 73, 128), r)\n",
    "plt.plot(linspace(65, 73, 128), r2)"
   ]
  }
 ],
 "metadata": {
  "kernelspec": {
   "display_name": "Python 3.10.8 64-bit",
   "language": "python",
   "name": "python3"
  },
  "language_info": {
   "codemirror_mode": {
    "name": "ipython",
    "version": 3
   },
   "file_extension": ".py",
   "mimetype": "text/x-python",
   "name": "python",
   "nbconvert_exporter": "python",
   "pygments_lexer": "ipython3",
   "version": "3.10.8"
  },
  "orig_nbformat": 4,
  "vscode": {
   "interpreter": {
    "hash": "88265624cc30845466f3efd1440a7ffffad6dccc621e04252785e981e0e06e38"
   }
  }
 },
 "nbformat": 4,
 "nbformat_minor": 2
}
