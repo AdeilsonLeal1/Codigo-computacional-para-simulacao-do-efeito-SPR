{
 "cells": [
  {
   "cell_type": "markdown",
   "metadata": {},
   "source": [
    "## Cálculo das curvas de referência e curvas SPR para diversos analitos"
   ]
  },
  {
   "cell_type": "markdown",
   "metadata": {},
   "source": [
    "Importação das bibliotecas necessárias:"
   ]
  },
  {
   "cell_type": "code",
   "execution_count": 1,
   "metadata": {},
   "outputs": [],
   "source": [
    "from scipy.integrate import *\n",
    "from random import gauss, uniform\n",
    "import sympy as smp\n",
    "from numpy import *\n",
    "import Reflectivity as ref\n",
    "import Setting_Layers as sl\n",
    "import matplotlib.pyplot as plt\n",
    "import pandas as pd\n",
    "import time"
   ]
  },
  {
   "cell_type": "markdown",
   "metadata": {},
   "source": [
    "Importação de arquivos dos experimentos:"
   ]
  },
  {
   "cell_type": "code",
   "execution_count": 68,
   "metadata": {},
   "outputs": [],
   "source": [
    "dados = pd.read_csv(\"experimento_H2O.csv\", encoding='latin1')\n",
    "dados2 = pd.read_csv(\"experimento_H2O_2.csv\", encoding='latin1')\n",
    "dados3 = pd.read_csv(\"experimento_H2O_1.csv\", encoding='latin1')\n",
    "dados4 = pd.read_csv(\"signal reference.csv\", encoding='latin1')\n",
    "\n",
    "pixel = dados['pixel']\n",
    "#pixel = pixel[::-1]\n",
    "signal_ref = dados4['Reference']\n",
    "\n",
    "\n",
    "#signal = dados[' signal']*signal_ref\n",
    "signal = dados[' signal']\n",
    "signal2 = dados2['Chan 1']\n",
    "signal3 = dados3['Chan 1']/signal_ref\n",
    "\n",
    "mn = min(signal_ref)\n",
    "mx = max(signal_ref)\n",
    "\n",
    "noise_ref = []\n",
    "noise_term = []\n",
    "\n",
    "theta_i = []\n",
    "\n",
    "for i in pixel:\n",
    "    theta_i.append((3.1522 * 1E-5 * i**2) - (0.0661 * i) + 73.4533)\n",
    "    a, b = uniform(mn,mx), gauss(mean(0), 0.05)\n",
    "    noise_ref.append(a)\n",
    "    noise_term.append(b)\n",
    "\n",
    "# Declaração da função gaussiana que modela o espalhamento do Led\n",
    "dc = 0.785\n",
    "a = 1/(sqrt(2*pi))\n",
    "\n",
    "p = lambda w_i: (dc + (a/2.7)* exp(-(((w_i - 845)/30)**2))) * (dc + (a/2.7)* exp(-(((w_i - 853)/15)**2))) * (1.01 + (a/3)* exp(-(((w_i - 845)/42)**2)))\n",
    "\n",
    "# Definição de função para calcular o indice de refração\n",
    "def set_index_3(lambda_i, material):\n",
    "    \n",
    "    ref_index = (sl.set_index(material, lambda_i*1E-9))\n",
    "\n",
    "    return ref_index\n",
    "\n",
    "idx = lambda w_i, material: set_index_3(w_i, material)"
   ]
  },
  {
   "cell_type": "markdown",
   "metadata": {},
   "source": [
    "### Inicio do cálculo para a curva de referência"
   ]
  },
  {
   "cell_type": "markdown",
   "metadata": {},
   "source": [
    "Definição da função que calcula a reflectância"
   ]
  },
  {
   "cell_type": "code",
   "execution_count": 69,
   "metadata": {},
   "outputs": [],
   "source": [
    "\n",
    "r = lambda theta, lambda_i: ref.reflectivity(3, [1, 50*1E-9, 1], [idx(lambda_i, 21), idx(lambda_i, 13), idx(lambda_i,17)], theta*pi/180, lambda_i*1e-9)\n",
    "    "
   ]
  },
  {
   "cell_type": "markdown",
   "metadata": {},
   "source": [
    "Definição da função f($\\lambda$,$\\theta$) = r($\\lambda$, $\\theta$) $\\cdot$ $\\rho$ ($\\lambda$) que modela a ponderação do espalhamento do LED em cada comprimento de onda."
   ]
  },
  {
   "cell_type": "code",
   "execution_count": 70,
   "metadata": {},
   "outputs": [],
   "source": [
    "def f(w_i, theta):\n",
    "    return (r(theta, w_i)*p(w_i))"
   ]
  },
  {
   "cell_type": "markdown",
   "metadata": {},
   "source": [
    "Definição da integral $\\int_{\\lambda_I}^{\\lambda_F} r(\\lambda, \\theta)* p(\\lambda)\\,d\\lambda$"
   ]
  },
  {
   "cell_type": "code",
   "execution_count": 71,
   "metadata": {},
   "outputs": [
    {
     "name": "stderr",
     "output_type": "stream",
     "text": [
      "/tmp/ipykernel_19906/1574118220.py:1: IntegrationWarning: The occurrence of roundoff error is detected, which prevents \n",
      "  the requested tolerance from being achieved.  The error may be \n",
      "  underestimated.\n",
      "  integrals = [[a, quad(f,  745, 935, args=(a))[0]] for a in linspace(73.6872,65.80896, 128)]\n"
     ]
    }
   ],
   "source": [
    "integrals = [[a, quad(f,  745, 935, args=(a))[0]] for a in linspace(73.6872,65.80896, 128)]"
   ]
  },
  {
   "attachments": {},
   "cell_type": "markdown",
   "metadata": {},
   "source": [
    "Resolução da equação: $R(\\theta)$ = $\\frac{\\int_{\\lambda_I}^{\\lambda_F} r(\\lambda, \\theta)* p(\\lambda)\\,d\\lambda}{\\rho(\\lambda)}$\n",
    "e normalização de $R(\\theta)$ pelo seu valor máximo"
   ]
  },
  {
   "cell_type": "code",
   "execution_count": 72,
   "metadata": {},
   "outputs": [],
   "source": [
    "reflectancia= array(integrals).T[1] / quad(p, 745, 935)[0]\n",
    "\n",
    "reflectancia_norm = reflectancia/max(reflectancia)\n"
   ]
  },
  {
   "attachments": {},
   "cell_type": "markdown",
   "metadata": {},
   "source": [
    "Incremento do ruído térmico no sinal de tensão resultado de 'reflectancia_norm*noise_ref'"
   ]
  },
  {
   "cell_type": "code",
   "execution_count": 73,
   "metadata": {},
   "outputs": [],
   "source": [
    "reflectancia_norm = (reflectancia_norm * noise_ref)+ noise_term"
   ]
  },
  {
   "cell_type": "markdown",
   "metadata": {},
   "source": [
    "Criação do arquivo para salvar os dados da curva de referência"
   ]
  },
  {
   "cell_type": "code",
   "execution_count": 74,
   "metadata": {},
   "outputs": [],
   "source": [
    "arquivo = open('Reference_data.csv','w')\n",
    "arquivo.write(\"Pixel #,Angle,Signal\")\n",
    "for i in range(len(theta_i)):\n",
    "    arquivo.write(f\"\\n{pixel[i]},{theta_i[i]},{reflectancia_norm[i]}\")\n",
    "arquivo.close()"
   ]
  },
  {
   "cell_type": "markdown",
   "metadata": {},
   "source": [
    "Plotagem do sinal de referência para verificação"
   ]
  },
  {
   "cell_type": "code",
   "execution_count": 75,
   "metadata": {},
   "outputs": [
    {
     "data": {
      "text/plain": [
       "[<matplotlib.lines.Line2D at 0x7fafc51afd00>]"
      ]
     },
     "execution_count": 75,
     "metadata": {},
     "output_type": "execute_result"
    },
    {
     "data": {
      "image/png": "[encoded data removed]",
      "text/plain": [
       "<Figure size 640x480 with 1 Axes>"
      ]
     },
     "metadata": {},
     "output_type": "display_data"
    }
   ],
   "source": [
    "signal_ref_txt = pd.read_csv('Reference_data.csv', encoding='latin1')\n",
    "\n",
    "pixel_ = signal_ref_txt['Pixel #']\n",
    "angle_ = signal_ref_txt['Angle']\n",
    "signal_ = signal_ref_txt['Signal']\n",
    "\n",
    "plt.plot(theta_i, signal, '--', label= 'Signal Exp 1')\n",
    "plt.plot(theta_i, signal_ref/signal_ref, '--', label= 'Signal Exp Ref')\n",
    "plt.plot(angle_, (signal_/noise_ref),'--', label= 'Signal Ref TXT' )\n",
    "plt.plot(theta_i, reflectancia_norm/noise_ref, '--', label= 'Signal Simulated')\n",
    "\n"
   ]
  },
  {
   "attachments": {},
   "cell_type": "markdown",
   "metadata": {},
   "source": [
    "### A partir daqui será o calculo das curvas para um analido com IR > 1.32 RIU"
   ]
  },
  {
   "cell_type": "code",
   "execution_count": 76,
   "metadata": {},
   "outputs": [
    {
     "data": {
      "image/png": "[encoded data removed]",
      "text/plain": [
       "<Figure size 640x480 with 1 Axes>"
      ]
     },
     "metadata": {},
     "output_type": "display_data"
    }
   ],
   "source": [
    "Idc = float(1.33000)\n",
    "\n",
    "tau = 20\n",
    "\n",
    "idcs = [0.0010, 0.0010, 0.0005, 0.0005, 0.0005, 0.001, 0.002, 0.002]\n",
    "\n",
    "carga = [True, False, True, False, True, True, True, False]\n",
    "count = 0\n",
    "ri = []\n",
    "while (count < 300):\n",
    "    ri.append(1.33)\n",
    "    count+=1\n",
    "count = 0\n",
    "\n",
    "for dc in range(len(carga)):\n",
    "    if carga[dc]:\n",
    "        while (count < 300):\n",
    "            if carga[dc-1]==False:\n",
    "                v = Idc + idcs[dc]*(1 - exp(-count/tau))\n",
    "                ri.append(v)\n",
    "                count+=1\n",
    "            else:\n",
    "                v = (Idc+idcs[dc])+ idcs[dc]*(1 - exp(-count/tau))\n",
    "                ri.append(v)\n",
    "                count+=1\n",
    "    else:\n",
    "        while (count < 300):\n",
    "                v = Idc + idcs[dc]*(exp(-count/tau))\n",
    "                ri.append(v)\n",
    "                count+=1\n",
    "    \n",
    "    count = 0\n",
    "\n",
    "x = linspace (0,len(ri), len(ri) )\n",
    "y = [1.33 for i in x]\n",
    "plt.plot(x, ri)\n",
    "plt.yticks(arange(1.329, 1.334, 0.001))\n",
    "plt.show()\n",
    "\n"
   ]
  },
  {
   "cell_type": "code",
   "execution_count": 77,
   "metadata": {},
   "outputs": [
    {
     "name": "stderr",
     "output_type": "stream",
     "text": [
      "/tmp/ipykernel_19906/2214521679.py:23: IntegrationWarning: The occurrence of roundoff error is detected, which prevents \n",
      "  the requested tolerance from being achieved.  The error may be \n",
      "  underestimated.\n",
      "  integrals = [[a, quad(f,  745, 935, args=(a))[0]] for a in linspace(73.6872,65.80896, 128)]\n",
      "/tmp/ipykernel_19906/2214521679.py:23: IntegrationWarning: The maximum number of subdivisions (50) has been achieved.\n",
      "  If increasing the limit yields no improvement it is advised to analyze \n",
      "  the integrand in order to determine the difficulties.  If the position of a \n",
      "  local difficulty can be determined (singularity, discontinuity) one will \n",
      "  probably gain from splitting up the interval and calling the integrator \n",
      "  on the subranges.  Perhaps a special-purpose integrator should be used.\n",
      "  integrals = [[a, quad(f,  745, 935, args=(a))[0]] for a in linspace(73.6872,65.80896, 128)]\n"
     ]
    }
   ],
   "source": [
    "start_time = time.time()\n",
    "arquivo = open('Sensor_data.txt','w')\n",
    "arquivo.write(\"time(s)\\tAngle\\tSignal\\tSPR Curve\")\n",
    "\n",
    "signal_ref_txt = pd.read_csv('Reference_data.csv', encoding='latin1')\n",
    "\n",
    "pixel_ = signal_ref_txt['Pixel #']\n",
    "angle_ = signal_ref_txt['Angle']\n",
    "signal_ref = signal_ref_txt['Signal']\n",
    "theta_i = []\n",
    "noise_term=[]\n",
    "\n",
    "for i in pixel_:\n",
    "    theta_i.append((3.1522 * 1E-5 * i**2) - (0.0661 * i) + 73.4533)\n",
    "\n",
    "for i in ri:\n",
    "    r = lambda theta, lambda_i: ref.reflectivity(3, [1, 50*1E-9, 1], [idx(lambda_i, 21), idx(lambda_i, 13), i], theta*pi/180, lambda_i*1e-9)\n",
    "\n",
    "    def f(w_i, theta):\n",
    "        return (r(theta, w_i)*p(w_i))\n",
    "\n",
    "    #Integral\n",
    "    integrals = [[a, quad(f,  745, 935, args=(a))[0]] for a in linspace(73.6872,65.80896, 128)]\n",
    "\n",
    "    reflectancia = array(integrals).T[1] / quad(p, 745, 935)[0]\n",
    "\n",
    "    reflectancia_norm = reflectancia/max(reflectancia)\n",
    "\n",
    "    noise_term=[gauss(mean(0), 0.05) for i in range(len(pixel_))]\n",
    "\n",
    "    reflectancia_norm = (reflectancia_norm * signal_ref) + noise_term\n",
    "\n",
    "    end_time = time.time()\n",
    "    interval = round((end_time - start_time), 5)\n",
    "    \n",
    "    arquivo.write(f\"\\n{interval}\\t{theta_i}\\t{list(reflectancia_norm)}\\t{list(reflectancia_norm/signal_ref)}\")\n",
    "\n",
    "arquivo.close()\n",
    "\n",
    "    #angle_ = signal_sensor['Angle']\n",
    "    #signal_ = signal_sensor['SPR Curve']\n",
    "\n",
    "    #plt.plot(theta_i, signal, '--', label= 'Signal Exp 1')\n",
    "    #plt.plot(angle_, (signal_),'--', label= 'Signal Ref TXT' )\n",
    "    #plt.plot(theta_i, signal2, '--', label= 'Signal Exp 2')\n",
    "    #plt.plot(theta_i, signal3, '--',label= 'Signal Exp 3')\n",
    "    #plt.plot(theta_i, r/signal_ref, '--', label= 'Signal Simulated')\n",
    "    #plt.legend()\n",
    "    "
   ]
  },
  {
   "attachments": {},
   "cell_type": "markdown",
   "metadata": {},
   "source": [
    "Verificação dos dados gerados:"
   ]
  },
  {
   "cell_type": "code",
   "execution_count": 18,
   "metadata": {},
   "outputs": [],
   "source": [
    "signal_sensor = pd.read_csv('Sensor_data.txt', encoding='latin1', delimiter='\\t')\n",
    "angle_ = []\n",
    "signal_ = []\n",
    "for i in linspace(0, 999, 10):\n",
    "    a = signal_sensor['Angle'][i].replace('[', '').replace(']', '').replace(' ', '')\n",
    "    s = signal_sensor['SPR Curve'][i].replace('[', '').replace(']', '').replace(' ', '')\n",
    "\n",
    "    a = a.split(',')\n",
    "    a = [float(i) for i in a]\n",
    "    s = s.split(',')\n",
    "    s = [float(i) for i in s]\n",
    "    angle_.append(a)\n",
    "    signal_.append(s)"
   ]
  },
  {
   "cell_type": "code",
   "execution_count": 20,
   "metadata": {},
   "outputs": [
    {
     "ename": "TypeError",
     "evalue": "list indices must be integers or slices, not numpy.float64",
     "output_type": "error",
     "traceback": [
      "\u001b[1;31m---------------------------------------------------------------------------\u001b[0m",
      "\u001b[1;31mTypeError\u001b[0m                                 Traceback (most recent call last)",
      "Cell \u001b[1;32mIn[20], line 2\u001b[0m\n\u001b[0;32m      1\u001b[0m \u001b[39mfor\u001b[39;00m i \u001b[39min\u001b[39;00m linspace(\u001b[39m0\u001b[39m, \u001b[39m999\u001b[39m, \u001b[39m10\u001b[39m):\n\u001b[1;32m----> 2\u001b[0m     plt\u001b[39m.\u001b[39mplot(angle_[i], signal_[i])\n\u001b[0;32m      3\u001b[0m plt\u001b[39m.\u001b[39mshow()\n",
      "\u001b[1;31mTypeError\u001b[0m: list indices must be integers or slices, not numpy.float64"
     ]
    }
   ],
   "source": [
    "for i in linspace(0, 999, 10):\n",
    "    plt.plot(angle_[i], signal_[i])\n",
    "plt.show()"
   ]
  }
 ],
 "metadata": {
  "kernelspec": {
   "display_name": "Python 3.10.8 64-bit",
   "language": "python",
   "name": "python3"
  },
  "language_info": {
   "codemirror_mode": {
    "name": "ipython",
    "version": 3
   },
   "file_extension": ".py",
   "mimetype": "text/x-python",
   "name": "python",
   "nbconvert_exporter": "python",
   "pygments_lexer": "ipython3",
   "version": "3.10.8"
  },
  "orig_nbformat": 4,
  "vscode": {
   "interpreter": {
    "hash": "88265624cc30845466f3efd1440a7ffffad6dccc621e04252785e981e0e06e38"
   }
  }
 },
 "nbformat": 4,
 "nbformat_minor": 2
}
